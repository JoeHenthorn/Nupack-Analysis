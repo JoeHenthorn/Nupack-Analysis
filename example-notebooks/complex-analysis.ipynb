{
 "cells": [
  {
   "cell_type": "markdown",
   "metadata": {},
   "source": [
    "# Complex analysis example"
   ]
  },
  {
   "cell_type": "markdown",
   "metadata": {},
   "source": [
    "Analyze a complex of two strands intended to form a bipedal walker with a duplex torso and single-stranded legs (Shin and Pierce, J Am Chem Soc, 2004).\n",
    "\n",
    "Material: DNA    \n",
    "Temperature: 23 C\n",
    "\n",
    "Calculate the partition function, equilibrium pair probability matrix, MFE proxy structure(s), and a set of suboptimal structures within a specified free energy gap.\n",
    "\n",
    "These calculations can alternatively be performed using Utilities commands (see the Utilities example notebook). "
   ]
  },
  {
   "cell_type": "code",
   "execution_count": 1,
   "metadata": {},
   "outputs": [],
   "source": [
    "# Import NUPACK Python module\n",
    "from nupack import *"
   ]
  },
  {
   "cell_type": "code",
   "execution_count": 2,
   "metadata": {},
   "outputs": [
    {
     "data": {
      "text/html": [
       "<b>Complex results:</b> <table border=\"1\" class=\"dataframe\">\n",
       "  <thead>\n",
       "    <tr style=\"text-align: right;\">\n",
       "      <th>Complex</th>\n",
       "      <th>Pfunc</th>\n",
       "      <th>ΔG (kcal/mol)</th>\n",
       "      <th>MFE (kcal/mol)</th>\n",
       "    </tr>\n",
       "  </thead>\n",
       "  <tbody>\n",
       "    <tr>\n",
       "      <td>(a+b)</td>\n",
       "      <td>4.1688e+30</td>\n",
       "      <td>-41.492</td>\n",
       "      <td>-38.547</td>\n",
       "    </tr>\n",
       "  </tbody>\n",
       "</table>"
      ],
      "text/plain": [
       "Result(complexes={<Complex (a+b)>: nupack.analysis.ComplexResult({model: Model('stacking', 'dna04.json', T=296.15 K), pfunc: 4.168803923E+30, free_energy: -41.49232746555886, mfe_stack: -38.32350540161133, pairs: [[0.2668 0.0000 0.0000 ... 0.0000 0.0001 0.7331]\n",
       " [0.0000 0.0038 0.0000 ... 0.0000 0.9961 0.0001]\n",
       " [0.0000 0.0000 0.0003 ... 0.9997 0.0000 0.0000]\n",
       " ...\n",
       " [0.0000 0.0000 0.9997 ... 0.0003 0.0000 0.0000]\n",
       " [0.0001 0.9961 0.0000 ... 0.0000 0.0038 0.0000]\n",
       " [0.7331 0.0001 0.0000 ... 0.0000 0.0000 0.2668]], mfe: [StructureEnergy(Structure('((((((((((((((((((((((.((.....)))).........+..........(.(....).)...))))))))))))))))))))'), energy=-38.547306060791016, stack_energy=-38.32350540161133)], subopt: [StructureEnergy(Structure('((((((((((((((((((((((.((.....)))).........+..........(.(....).)...))))))))))))))))))))'), energy=-38.547306060791016, stack_energy=-38.32350540161133), StructureEnergy(Structure('((((((((((((((((((((......(((.(....).)))...+..........(.(....).)...))))))))))))))))))))'), energy=-39.26380157470703, stack_energy=-38.308048248291016), StructureEnergy(Structure('((((((((((((((((((((...((.....))...........+..........(.(....).)...))))))))))))))))))))'), energy=-39.088478088378906, stack_energy=-38.21638107299805), StructureEnergy(Structure('((((((((((((((((((((((.((.....))))..(((....+.....)))(.(.(....).).).))))))))))))))))))))'), energy=-38.44503402709961, stack_energy=-38.121612548828125), StructureEnergy(Structure('((((((((((((((((((((......(((........)))...+..........(.(....).)...))))))))))))))))))))'), energy=-38.807376861572266, stack_energy=-37.851619720458984), StructureEnergy(Structure('((((((((((((((((((((((....(((.(....).)))...+..........(.(....).)))).)))))))))))))))))))'), energy=-37.977664947509766, stack_energy=-37.569862365722656), StructureEnergy(Structure('((((((((((((((((((((((....(((.(....).)))...+..........(.(....).))).))))))))))))))))))))'), energy=-37.977664947509766, stack_energy=-37.569862365722656), StructureEnergy(Structure('((((((((((((((((((((((.((.....))...........+..........(.(....).)))).)))))))))))))))))))'), energy=-37.79389190673828, stack_energy=-37.47819519042969), StructureEnergy(Structure('((((((((((((((((((((((.((.....))...........+..........(.(....).))).))))))))))))))))))))'), energy=-37.79389190673828, stack_energy=-37.47819519042969), StructureEnergy(Structure('((((((((((((((((((((.((.(((((.(....).)))...+..).).))(.(.(....).).).))))))))))))))))))))'), energy=-37.8651008605957, stack_energy=-37.470577239990234), StructureEnergy(Structure('((((((((((((((((((((((.((.....)))).........+..(......)(.(....).)...))))))))))))))))))))'), energy=-37.49030303955078, stack_energy=-37.45406723022461), StructureEnergy(Structure('((((((((((((((((((((......(((.(....).)))...+..(......)(.(....).)...))))))))))))))))))))'), energy=-38.2067985534668, stack_energy=-37.4386100769043), StructureEnergy(Structure('((((((((((((((((((((.((.(.(((.(....).)))...+....).))(.(.(....).).).))))))))))))))))))))'), energy=-38.43882369995117, stack_energy=-37.39313507080078), StructureEnergy(Structure('((((((((((((((((((((...((.....))...........+..(......)(.(....).)...))))))))))))))))))))'), energy=-38.03147506713867, stack_energy=-37.34694290161133), StructureEnergy(Structure('.(((((((((((((((((((((.((.....)))).........+..........(.(....).)...))))))))))))))))))).'), energy=-37.94407272338867, stack_energy=-37.32958221435547), StructureEnergy(Structure('.(((((((((((((((((((......(((.(....).)))...+..........(.(....).)...))))))))))))))))))).'), energy=-38.66056823730469, stack_energy=-37.314125061035156), StructureEnergy(Structure('(((((((((((((((((((((..((.....)).).........+..........(.(....).)...))))))))))))))))))))'), energy=-37.53254699707031, stack_energy=-37.308746337890625), StructureEnergy(Structure('((((((((((((((((((((((.((.....)))).........+............(....).....))))))))))))))))))))'), energy=-37.57835388183594, stack_energy=-37.286869049072266), StructureEnergy(Structure('((((((((((((((((((((((.((.....)))).((((....+.....))).)(.(....).)...))))))))))))))))))))'), energy=-37.6158561706543, stack_energy=-37.27665328979492), StructureEnergy(Structure('((((((((((((((((((((......(((.(....).)))...+............(....).....))))))))))))))))))))'), energy=-38.29484939575195, stack_energy=-37.27141189575195)]})})"
      ]
     },
     "execution_count": 2,
     "metadata": {},
     "output_type": "execute_result"
    }
   ],
   "source": [
    "# Define physical model \n",
    "my_model = Model(material='dna', celsius=23)\n",
    "\n",
    "# Define strands\n",
    "a = Strand('GGCTGGTTTCTGCTCTCTAGTTCGCGAGGTGCAATCTCCTATC', name='a')\n",
    "b = Strand('GTCTGGGATGCTGGATACTGAACCTAGAGAGCAGAAACCAGCC', name='b')\n",
    "\n",
    "# Define the complex of interest \n",
    "walker = Complex([a, b])\n",
    "\n",
    "# Define the complex set to contain only one complex\n",
    "my_set = ComplexSet(strands={a: 1e-8, b: 1e-8}, complexes=SetSpec(max_size=0, include=[walker]))\n",
    "\n",
    "# Define the energy gap (kcal/mol) for calculating suboptimal structures\n",
    "gap = 1.1 \n",
    "\n",
    "# Analyze the complex \n",
    "# Calculate pfunc, pairs, mfe, subopt\n",
    "my_result = complex_analysis(my_set, compute=['pfunc', 'pairs', 'mfe', 'subopt'], \n",
    "                             options={'energy_gap': gap}, model=my_model)\n",
    "my_result"
   ]
  },
  {
   "cell_type": "code",
   "execution_count": 3,
   "metadata": {},
   "outputs": [
    {
     "name": "stdout",
     "output_type": "stream",
     "text": [
      "\n",
      "MFE proxy structure(s) for walker (a+b):\n",
      "     0: ((((((((((((((((((((((.((.....)))).........+..........(.(....).)...)))))))))))))))))))) (-38.55 kcal/mol)\n",
      "\n",
      "Suboptimal proxy structures for walker (a+b):\n",
      "     0: ((((((((((((((((((((((.((.....)))).........+..........(.(....).)...)))))))))))))))))))) (-38.55 kcal/mol)\n",
      "     1: ((((((((((((((((((((......(((.(....).)))...+..........(.(....).)...)))))))))))))))))))) (-39.26 kcal/mol)\n",
      "     2: ((((((((((((((((((((...((.....))...........+..........(.(....).)...)))))))))))))))))))) (-39.09 kcal/mol)\n",
      "     3: ((((((((((((((((((((((.((.....))))..(((....+.....)))(.(.(....).).).)))))))))))))))))))) (-38.45 kcal/mol)\n",
      "     4: ((((((((((((((((((((......(((........)))...+..........(.(....).)...)))))))))))))))))))) (-38.81 kcal/mol)\n",
      "     5: ((((((((((((((((((((((....(((.(....).)))...+..........(.(....).)))).))))))))))))))))))) (-37.98 kcal/mol)\n",
      "     6: ((((((((((((((((((((((....(((.(....).)))...+..........(.(....).))).)))))))))))))))))))) (-37.98 kcal/mol)\n",
      "     7: ((((((((((((((((((((((.((.....))...........+..........(.(....).)))).))))))))))))))))))) (-37.79 kcal/mol)\n",
      "     8: ((((((((((((((((((((((.((.....))...........+..........(.(....).))).)))))))))))))))))))) (-37.79 kcal/mol)\n",
      "     9: ((((((((((((((((((((.((.(((((.(....).)))...+..).).))(.(.(....).).).)))))))))))))))))))) (-37.87 kcal/mol)\n",
      "    10: ((((((((((((((((((((((.((.....)))).........+..(......)(.(....).)...)))))))))))))))))))) (-37.49 kcal/mol)\n",
      "    11: ((((((((((((((((((((......(((.(....).)))...+..(......)(.(....).)...)))))))))))))))))))) (-38.21 kcal/mol)\n",
      "    12: ((((((((((((((((((((.((.(.(((.(....).)))...+....).))(.(.(....).).).)))))))))))))))))))) (-38.44 kcal/mol)\n",
      "    13: ((((((((((((((((((((...((.....))...........+..(......)(.(....).)...)))))))))))))))))))) (-38.03 kcal/mol)\n",
      "    14: .(((((((((((((((((((((.((.....)))).........+..........(.(....).)...))))))))))))))))))). (-37.94 kcal/mol)\n",
      "    15: .(((((((((((((((((((......(((.(....).)))...+..........(.(....).)...))))))))))))))))))). (-38.66 kcal/mol)\n",
      "    16: (((((((((((((((((((((..((.....)).).........+..........(.(....).)...)))))))))))))))))))) (-37.53 kcal/mol)\n",
      "    17: ((((((((((((((((((((((.((.....)))).........+............(....).....)))))))))))))))))))) (-37.58 kcal/mol)\n",
      "    18: ((((((((((((((((((((((.((.....)))).((((....+.....))).)(.(....).)...)))))))))))))))))))) (-37.62 kcal/mol)\n",
      "    19: ((((((((((((((((((((......(((.(....).)))...+............(....).....)))))))))))))))))))) (-38.29 kcal/mol)\n"
     ]
    }
   ],
   "source": [
    "# MFE proxy structure(s)\n",
    "walker_result = my_result[walker] # result object for complex 'x'\n",
    "print('\\nMFE proxy structure(s) for walker (a+b):')\n",
    "for i, s in enumerate(walker_result.mfe):\n",
    "    print('    %2d: %s (%.2f kcal/mol)' % (i, s.structure, s.energy))\n",
    "\n",
    "print('\\nSuboptimal proxy structures for walker (a+b):')\n",
    "for i, s in enumerate(walker_result.subopt):\n",
    "    print('    %2d: %s (%.2f kcal/mol)' % (i, s.structure, s.energy))"
   ]
  },
  {
   "cell_type": "code",
   "execution_count": 4,
   "metadata": {},
   "outputs": [
    {
     "data": {
      "image/png": "[encoded data removed]",
      "text/plain": [
       "<Figure size 432x288 with 2 Axes>"
      ]
     },
     "metadata": {
      "needs_background": "light"
     },
     "output_type": "display_data"
    }
   ],
   "source": [
    "# Plot equilibrium pair probability matrix\n",
    "import matplotlib.pyplot as plt\n",
    "plt.imshow(walker_result.pairs.to_array())\n",
    "plt.xlabel('Base index')\n",
    "plt.ylabel('Base index')\n",
    "plt.title('Pair probabilities for walker (a+b)')\n",
    "plt.colorbar()\n",
    "plt.clim(0, 1)"
   ]
  }
 ],
 "metadata": {
  "kernelspec": {
   "display_name": "Python 3",
   "language": "python",
   "name": "python3"
  },
  "language_info": {
   "codemirror_mode": {
    "name": "ipython",
    "version": 3
   },
   "file_extension": ".py",
   "mimetype": "text/x-python",
   "name": "python",
   "nbconvert_exporter": "python",
   "pygments_lexer": "ipython3",
   "version": "3.7.8"
  }
 },
 "nbformat": 4,
 "nbformat_minor": 4
}