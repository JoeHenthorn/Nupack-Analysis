{
 "cells": [
  {
   "cell_type": "markdown",
   "metadata": {},
   "source": [
    "# Utilities example\n",
    "\n",
    "Analyze a complex of two strands intended to form a bipedal walker with a duplex torso and single-stranded legs (Shin and Pierce, J Am Chem Soc, 2004).\n",
    "\n",
    "Material: DNA    \n",
    "Temperature: 23 C\n",
    "\n",
    "Calculate the partition function, equilibrium pair probability matrix, MFE proxy structure(s), and a set of suboptimal structures within a specified free energy gap. Calculate the complex ensemble defect with respect to the desired structure, as well as the equilibrium probability of the target structure. Design a sequence intended to adopt the desired structure and check its equilibrium pair probabilities, complex ensemble defect, and equilibrium target sturcture probability. \n",
    "\n",
    "Utilities commands are quick and easy for analyzing or designing a single complex ensemble. By contrast: 1) Analysis commands provide more efficient general-purpose tools for analyzing one or more test tube ensembles (or complex ensembles), using caching to reduce computational cost. 2) Design commands provide more versatile general-purpose tools for designing one or more test tube ensembles (or complex ensembles). "
   ]
  },
  {
   "cell_type": "code",
   "execution_count": 1,
   "metadata": {},
   "outputs": [],
   "source": [
    "# Import NUPACK Python module\n",
    "from nupack import *"
   ]
  },
  {
   "cell_type": "code",
   "execution_count": 2,
   "metadata": {},
   "outputs": [],
   "source": [
    "# Define physical model \n",
    "my_model = Model(material='dna', celsius=23)\n",
    "\n",
    "# Define walker sequences\n",
    "walker_seq = ['GGCTGGTTTCTGCTCTCTAGTTCGCGAGGTGCAATCTCCTATC', 'GTCTGGGATGCTGGATACTGAACCTAGAGAGCAGAAACCAGCC']\n",
    "\n",
    "# Define intended walker structure \n",
    "walker_struc = '(20.23+.23)20'"
   ]
  },
  {
   "cell_type": "code",
   "execution_count": 3,
   "metadata": {},
   "outputs": [],
   "source": [
    "# Partition function and complex free energy\n",
    "my_pfunc, my_free_energy = pfunc(strands=walker_seq, model=my_model)\n",
    "\n",
    "# Equilibrium pair probability matrix\n",
    "my_pairs = pairs(strands=walker_seq, model=my_model)\n",
    "\n",
    "# MFE procy structure and energy\n",
    "my_mfe = mfe(strands=walker_seq, model=my_model)\n",
    "\n",
    "# Suboptimal proxy structures and energies\n",
    "my_subopt = subopt(strands=walker_seq, model=my_model, energy_gap=1.1)"
   ]
  },
  {
   "cell_type": "code",
   "execution_count": 4,
   "metadata": {},
   "outputs": [
    {
     "name": "stdout",
     "output_type": "stream",
     "text": [
      "Partition function = 4.168803923E+30\n",
      "Complex free energy = -41.49232746555886\n",
      "\n",
      "MFE proxy structure(s):\n",
      "     0: ((((((((((((((((((((((.((.....)))).........+..........(.(....).)...)))))))))))))))))))) (-38.55 kcal/mol)\n",
      "\n",
      "Suboptimal proxy structure(s):\n",
      "     0: ((((((((((((((((((((((.((.....)))).........+..........(.(....).)...)))))))))))))))))))) (-38.55 kcal/mol)\n",
      "     1: ((((((((((((((((((((......(((.(....).)))...+..........(.(....).)...)))))))))))))))))))) (-39.26 kcal/mol)\n",
      "     2: ((((((((((((((((((((...((.....))...........+..........(.(....).)...)))))))))))))))))))) (-39.09 kcal/mol)\n",
      "     3: ((((((((((((((((((((((.((.....))))..(((....+.....)))(.(.(....).).).)))))))))))))))))))) (-38.45 kcal/mol)\n",
      "     4: ((((((((((((((((((((......(((........)))...+..........(.(....).)...)))))))))))))))))))) (-38.81 kcal/mol)\n",
      "     5: ((((((((((((((((((((((....(((.(....).)))...+..........(.(....).)))).))))))))))))))))))) (-37.98 kcal/mol)\n",
      "     6: ((((((((((((((((((((((....(((.(....).)))...+..........(.(....).))).)))))))))))))))))))) (-37.98 kcal/mol)\n",
      "     7: ((((((((((((((((((((((.((.....))...........+..........(.(....).)))).))))))))))))))))))) (-37.79 kcal/mol)\n",
      "     8: ((((((((((((((((((((((.((.....))...........+..........(.(....).))).)))))))))))))))))))) (-37.79 kcal/mol)\n",
      "     9: ((((((((((((((((((((.((.(((((.(....).)))...+..).).))(.(.(....).).).)))))))))))))))))))) (-37.87 kcal/mol)\n",
      "    10: ((((((((((((((((((((((.((.....)))).........+..(......)(.(....).)...)))))))))))))))))))) (-37.49 kcal/mol)\n",
      "    11: ((((((((((((((((((((......(((.(....).)))...+..(......)(.(....).)...)))))))))))))))))))) (-38.21 kcal/mol)\n",
      "    12: ((((((((((((((((((((.((.(.(((.(....).)))...+....).))(.(.(....).).).)))))))))))))))))))) (-38.44 kcal/mol)\n",
      "    13: ((((((((((((((((((((...((.....))...........+..(......)(.(....).)...)))))))))))))))))))) (-38.03 kcal/mol)\n",
      "    14: .(((((((((((((((((((((.((.....)))).........+..........(.(....).)...))))))))))))))))))). (-37.94 kcal/mol)\n",
      "    15: .(((((((((((((((((((......(((.(....).)))...+..........(.(....).)...))))))))))))))))))). (-38.66 kcal/mol)\n",
      "    16: (((((((((((((((((((((..((.....)).).........+..........(.(....).)...)))))))))))))))))))) (-37.53 kcal/mol)\n",
      "    17: ((((((((((((((((((((((.((.....)))).........+............(....).....)))))))))))))))))))) (-37.58 kcal/mol)\n",
      "    18: ((((((((((((((((((((((.((.....)))).((((....+.....))).)(.(....).)...)))))))))))))))))))) (-37.62 kcal/mol)\n",
      "    19: ((((((((((((((((((((......(((.(....).)))...+............(....).....)))))))))))))))))))) (-38.29 kcal/mol)\n"
     ]
    }
   ],
   "source": [
    "# Print out components of the result for the given complex\n",
    "\n",
    "print('Partition function =', my_pfunc)\n",
    "print('Complex free energy =', my_free_energy)\n",
    "\n",
    "print('\\nMFE proxy structure(s):')\n",
    "for i, s in enumerate(my_mfe):\n",
    "    print('    %2d: %s (%.2f kcal/mol)' % (i, s.structure, s.energy))\n",
    "\n",
    "print('\\nSuboptimal proxy structure(s):')\n",
    "for i, s in enumerate(my_subopt):\n",
    "    print('    %2d: %s (%.2f kcal/mol)' % (i, s.structure, s.energy))"
   ]
  },
  {
   "cell_type": "code",
   "execution_count": 5,
   "metadata": {},
   "outputs": [
    {
     "data": {
      "image/png": "[encoded data removed]",
      "text/plain": [
       "<Figure size 432x288 with 2 Axes>"
      ]
     },
     "metadata": {
      "needs_background": "light"
     },
     "output_type": "display_data"
    }
   ],
   "source": [
    "# Plot equilibrium pair probability matrix\n",
    "import matplotlib.pyplot as plt\n",
    "plt.imshow(my_pairs.to_array())\n",
    "plt.xlabel('Base index')\n",
    "plt.ylabel('Base index')\n",
    "plt.title('Pair probabilities')\n",
    "plt.colorbar()\n",
    "plt.clim(0, 1)"
   ]
  },
  {
   "cell_type": "code",
   "execution_count": 6,
   "metadata": {},
   "outputs": [
    {
     "name": "stdout",
     "output_type": "stream",
     "text": [
      "Normalized complex ensemble defect = 0.19\n"
     ]
    }
   ],
   "source": [
    "# Calculate the complex ensemble defect with respect to the intended walker structure\n",
    "my_defect = defect(strands=walker_seq, structure=walker_struc, model=my_model) \n",
    "print('Normalized complex ensemble defect = %.2f' % my_defect)"
   ]
  },
  {
   "cell_type": "code",
   "execution_count": 7,
   "metadata": {},
   "outputs": [
    {
     "name": "stdout",
     "output_type": "stream",
     "text": [
      "Equilibrium structure probability = 7.4e-06\n"
     ]
    }
   ],
   "source": [
    "# Calculate the equilibrium probability of the intended walker structure\n",
    "my_prob = structure_probability(strands=walker_seq, structure=walker_struc, model=my_model)\n",
    "print('Equilibrium structure probability = %.1e' % my_prob)"
   ]
  },
  {
   "cell_type": "code",
   "execution_count": 8,
   "metadata": {},
   "outputs": [
    {
     "data": {
      "text/plain": [
       "['CGCAUCUAUGAAAUUAAACCAACAUCCACCAACUACACCCCAC',\n",
       " 'ACCCUUUACAUCUUCUCUCUCACGGUUUAAUUUCAUAGAUGCG']"
      ]
     },
     "execution_count": 8,
     "metadata": {},
     "output_type": "execute_result"
    }
   ],
   "source": [
    "# Design a sequence intended to adopt the intended walker structure\n",
    "new_seq = des(structure=walker_struc, model=my_model)\n",
    "new_seq"
   ]
  },
  {
   "cell_type": "code",
   "execution_count": 9,
   "metadata": {},
   "outputs": [
    {
     "data": {
      "image/png": "[encoded data removed]",
      "text/plain": [
       "<Figure size 432x288 with 2 Axes>"
      ]
     },
     "metadata": {
      "needs_background": "light"
     },
     "output_type": "display_data"
    }
   ],
   "source": [
    "# Equilibrium pair probability matrix\n",
    "my_pairs2 = pairs(strands=new_seq, model=my_model)\n",
    "\n",
    "# Plot equilibrium pair probability matrix\n",
    "plt.imshow(my_pairs2.to_array())\n",
    "plt.xlabel('Base index')\n",
    "plt.ylabel('Base index')\n",
    "plt.title('Pair probabilities for new design')\n",
    "plt.colorbar()\n",
    "plt.clim(0, 1)"
   ]
  },
  {
   "cell_type": "code",
   "execution_count": 10,
   "metadata": {},
   "outputs": [
    {
     "name": "stdout",
     "output_type": "stream",
     "text": [
      "Normalized complex ensemble defect = 0.01\n"
     ]
    }
   ],
   "source": [
    "# Calculate the complex ensemble defect with respect to the intended walker structure for the new design\n",
    "my_defect2 = defect(strands=new_seq, structure=walker_struc, model=my_model) \n",
    "print('Normalized complex ensemble defect = %.2f' % my_defect2)"
   ]
  },
  {
   "cell_type": "code",
   "execution_count": 11,
   "metadata": {},
   "outputs": [
    {
     "name": "stdout",
     "output_type": "stream",
     "text": [
      "Equilibrium structure probability = 5.2e-01\n"
     ]
    }
   ],
   "source": [
    "# Calculate the equilibrium probability of the intended walker structure for the new design\n",
    "my_prob2 = structure_probability(strands=new_seq, structure=walker_struc, model=my_model)\n",
    "print('Equilibrium structure probability = %.1e' % my_prob2)"
   ]
  }
 ],
 "metadata": {
  "kernelspec": {
   "display_name": "Python 3",
   "language": "python",
   "name": "python3"
  },
  "language_info": {
   "codemirror_mode": {
    "name": "ipython",
    "version": 3
   },
   "file_extension": ".py",
   "mimetype": "text/x-python",
   "name": "python",
   "nbconvert_exporter": "python",
   "pygments_lexer": "ipython3",
   "version": "3.7.8"
  }
 },
 "nbformat": 4,
 "nbformat_minor": 4
}